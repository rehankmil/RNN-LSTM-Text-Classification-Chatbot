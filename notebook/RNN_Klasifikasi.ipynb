{
  "cells": [
    {
      "cell_type": "markdown",
      "source": [
        "# **Klasifikasi Sentimen Menggunakan Recurrent Neural Network (RNN)**"
      ],
      "metadata": {
        "id": "3Wq0knzl704J"
      }
    },
    {
      "cell_type": "markdown",
      "source": [
        "## **Import Libraries**"
      ],
      "metadata": {
        "id": "6hM4eQK_8AZW"
      }
    },
    {
      "cell_type": "code",
      "source": [
        "# Import Libraries\n",
        "import pandas as pd\n",
        "import re\n",
        "import numpy as np\n",
        "from sklearn.model_selection import train_test_split\n",
        "from sklearn.metrics import classification_report, confusion_matrix\n",
        "from sklearn.preprocessing import LabelEncoder\n",
        "from tensorflow.keras.preprocessing.text import Tokenizer\n",
        "from tensorflow.keras.preprocessing.sequence import pad_sequences\n",
        "from tensorflow.keras.optimizers import Adam\n",
        "from tensorflow.keras.models import Sequential\n",
        "from tensorflow.keras.layers import Embedding, SimpleRNN, Dense\n",
        "from tensorflow.keras.layers import Dropout\n",
        "from tensorflow.keras.callbacks import EarlyStopping\n",
        "import gdown"
      ],
      "metadata": {
        "id": "04soVM96Sj69"
      },
      "execution_count": 1,
      "outputs": []
    },
    {
      "cell_type": "markdown",
      "source": [
        "## **Mengekstrak Data**"
      ],
      "metadata": {
        "id": "XwuzMiXI8DoW"
      }
    },
    {
      "cell_type": "code",
      "source": [
        "# gdown for downloading files directly from Google Drive.\n",
        "from gdown import download\n",
        "\n",
        "id = \"1_uEtLA2GO2xjePWXOkjy_IlGM-2CdOWp\"\n",
        "output = \"dataset_tweet_sentiment_opini_film.csv\"\n",
        "download(id=id, output=output)"
      ],
      "metadata": {
        "colab": {
          "base_uri": "https://localhost:8080/",
          "height": 105
        },
        "id": "bYB3laXxSx2s",
        "outputId": "8bc7f348-ad6c-4f4b-d70d-0df54ac460ba"
      },
      "execution_count": 2,
      "outputs": [
        {
          "output_type": "stream",
          "name": "stderr",
          "text": [
            "Downloading...\n",
            "From: https://drive.google.com/uc?id=1_uEtLA2GO2xjePWXOkjy_IlGM-2CdOWp\n",
            "To: /content/dataset_tweet_sentiment_opini_film.csv\n",
            "100%|██████████| 22.7k/22.7k [00:00<00:00, 14.3MB/s]\n"
          ]
        },
        {
          "output_type": "execute_result",
          "data": {
            "text/plain": [
              "'dataset_tweet_sentiment_opini_film.csv'"
            ],
            "application/vnd.google.colaboratory.intrinsic+json": {
              "type": "string"
            }
          },
          "metadata": {},
          "execution_count": 2
        }
      ]
    },
    {
      "cell_type": "code",
      "source": [
        "df = pd.read_csv('dataset_tweet_sentiment_opini_film.csv')"
      ],
      "metadata": {
        "id": "EeUGRIY3TLiD"
      },
      "execution_count": 3,
      "outputs": []
    },
    {
      "cell_type": "code",
      "source": [
        "df.head()"
      ],
      "metadata": {
        "colab": {
          "base_uri": "https://localhost:8080/",
          "height": 206
        },
        "id": "rDbaIcLrTn-9",
        "outputId": "1cb70223-a2df-40c8-bd74-d1f329bae7e7"
      },
      "execution_count": 4,
      "outputs": [
        {
          "output_type": "execute_result",
          "data": {
            "text/plain": [
              "   Id Sentiment                                         Text Tweet\n",
              "0   1  negative  Jelek filmnya... apalagi si ernest gak mutu bg...\n",
              "1   2  negative  Film king Arthur ini film paling jelek dari se...\n",
              "2   3  negative  @beexkuanlin Sepanjang film gwa berkata kasar ...\n",
              "3   4  negative  Ane ga suka fast and furious..menurutku kok je...\n",
              "4   5  negative  @baekhyun36 kan gua ga tau film nya, lu bilang..."
            ],
            "text/html": [
              "\n",
              "  <div id=\"df-a133fb92-147c-4149-afe2-4dcaaa247827\" class=\"colab-df-container\">\n",
              "    <div>\n",
              "<style scoped>\n",
              "    .dataframe tbody tr th:only-of-type {\n",
              "        vertical-align: middle;\n",
              "    }\n",
              "\n",
              "    .dataframe tbody tr th {\n",
              "        vertical-align: top;\n",
              "    }\n",
              "\n",
              "    .dataframe thead th {\n",
              "        text-align: right;\n",
              "    }\n",
              "</style>\n",
              "<table border=\"1\" class=\"dataframe\">\n",
              "  <thead>\n",
              "    <tr style=\"text-align: right;\">\n",
              "      <th></th>\n",
              "      <th>Id</th>\n",
              "      <th>Sentiment</th>\n",
              "      <th>Text Tweet</th>\n",
              "    </tr>\n",
              "  </thead>\n",
              "  <tbody>\n",
              "    <tr>\n",
              "      <th>0</th>\n",
              "      <td>1</td>\n",
              "      <td>negative</td>\n",
              "      <td>Jelek filmnya... apalagi si ernest gak mutu bg...</td>\n",
              "    </tr>\n",
              "    <tr>\n",
              "      <th>1</th>\n",
              "      <td>2</td>\n",
              "      <td>negative</td>\n",
              "      <td>Film king Arthur ini film paling jelek dari se...</td>\n",
              "    </tr>\n",
              "    <tr>\n",
              "      <th>2</th>\n",
              "      <td>3</td>\n",
              "      <td>negative</td>\n",
              "      <td>@beexkuanlin Sepanjang film gwa berkata kasar ...</td>\n",
              "    </tr>\n",
              "    <tr>\n",
              "      <th>3</th>\n",
              "      <td>4</td>\n",
              "      <td>negative</td>\n",
              "      <td>Ane ga suka fast and furious..menurutku kok je...</td>\n",
              "    </tr>\n",
              "    <tr>\n",
              "      <th>4</th>\n",
              "      <td>5</td>\n",
              "      <td>negative</td>\n",
              "      <td>@baekhyun36 kan gua ga tau film nya, lu bilang...</td>\n",
              "    </tr>\n",
              "  </tbody>\n",
              "</table>\n",
              "</div>\n",
              "    <div class=\"colab-df-buttons\">\n",
              "\n",
              "  <div class=\"colab-df-container\">\n",
              "    <button class=\"colab-df-convert\" onclick=\"convertToInteractive('df-a133fb92-147c-4149-afe2-4dcaaa247827')\"\n",
              "            title=\"Convert this dataframe to an interactive table.\"\n",
              "            style=\"display:none;\">\n",
              "\n",
              "  <svg xmlns=\"http://www.w3.org/2000/svg\" height=\"24px\" viewBox=\"0 -960 960 960\">\n",
              "    <path d=\"M120-120v-720h720v720H120Zm60-500h600v-160H180v160Zm220 220h160v-160H400v160Zm0 220h160v-160H400v160ZM180-400h160v-160H180v160Zm440 0h160v-160H620v160ZM180-180h160v-160H180v160Zm440 0h160v-160H620v160Z\"/>\n",
              "  </svg>\n",
              "    </button>\n",
              "\n",
              "  <style>\n",
              "    .colab-df-container {\n",
              "      display:flex;\n",
              "      gap: 12px;\n",
              "    }\n",
              "\n",
              "    .colab-df-convert {\n",
              "      background-color: #E8F0FE;\n",
              "      border: none;\n",
              "      border-radius: 50%;\n",
              "      cursor: pointer;\n",
              "      display: none;\n",
              "      fill: #1967D2;\n",
              "      height: 32px;\n",
              "      padding: 0 0 0 0;\n",
              "      width: 32px;\n",
              "    }\n",
              "\n",
              "    .colab-df-convert:hover {\n",
              "      background-color: #E2EBFA;\n",
              "      box-shadow: 0px 1px 2px rgba(60, 64, 67, 0.3), 0px 1px 3px 1px rgba(60, 64, 67, 0.15);\n",
              "      fill: #174EA6;\n",
              "    }\n",
              "\n",
              "    .colab-df-buttons div {\n",
              "      margin-bottom: 4px;\n",
              "    }\n",
              "\n",
              "    [theme=dark] .colab-df-convert {\n",
              "      background-color: #3B4455;\n",
              "      fill: #D2E3FC;\n",
              "    }\n",
              "\n",
              "    [theme=dark] .colab-df-convert:hover {\n",
              "      background-color: #434B5C;\n",
              "      box-shadow: 0px 1px 3px 1px rgba(0, 0, 0, 0.15);\n",
              "      filter: drop-shadow(0px 1px 2px rgba(0, 0, 0, 0.3));\n",
              "      fill: #FFFFFF;\n",
              "    }\n",
              "  </style>\n",
              "\n",
              "    <script>\n",
              "      const buttonEl =\n",
              "        document.querySelector('#df-a133fb92-147c-4149-afe2-4dcaaa247827 button.colab-df-convert');\n",
              "      buttonEl.style.display =\n",
              "        google.colab.kernel.accessAllowed ? 'block' : 'none';\n",
              "\n",
              "      async function convertToInteractive(key) {\n",
              "        const element = document.querySelector('#df-a133fb92-147c-4149-afe2-4dcaaa247827');\n",
              "        const dataTable =\n",
              "          await google.colab.kernel.invokeFunction('convertToInteractive',\n",
              "                                                    [key], {});\n",
              "        if (!dataTable) return;\n",
              "\n",
              "        const docLinkHtml = 'Like what you see? Visit the ' +\n",
              "          '<a target=\"_blank\" href=https://colab.research.google.com/notebooks/data_table.ipynb>data table notebook</a>'\n",
              "          + ' to learn more about interactive tables.';\n",
              "        element.innerHTML = '';\n",
              "        dataTable['output_type'] = 'display_data';\n",
              "        await google.colab.output.renderOutput(dataTable, element);\n",
              "        const docLink = document.createElement('div');\n",
              "        docLink.innerHTML = docLinkHtml;\n",
              "        element.appendChild(docLink);\n",
              "      }\n",
              "    </script>\n",
              "  </div>\n",
              "\n",
              "\n",
              "    <div id=\"df-fda92c51-7bca-4931-b767-c4153266e85d\">\n",
              "      <button class=\"colab-df-quickchart\" onclick=\"quickchart('df-fda92c51-7bca-4931-b767-c4153266e85d')\"\n",
              "                title=\"Suggest charts\"\n",
              "                style=\"display:none;\">\n",
              "\n",
              "<svg xmlns=\"http://www.w3.org/2000/svg\" height=\"24px\"viewBox=\"0 0 24 24\"\n",
              "     width=\"24px\">\n",
              "    <g>\n",
              "        <path d=\"M19 3H5c-1.1 0-2 .9-2 2v14c0 1.1.9 2 2 2h14c1.1 0 2-.9 2-2V5c0-1.1-.9-2-2-2zM9 17H7v-7h2v7zm4 0h-2V7h2v10zm4 0h-2v-4h2v4z\"/>\n",
              "    </g>\n",
              "</svg>\n",
              "      </button>\n",
              "\n",
              "<style>\n",
              "  .colab-df-quickchart {\n",
              "      --bg-color: #E8F0FE;\n",
              "      --fill-color: #1967D2;\n",
              "      --hover-bg-color: #E2EBFA;\n",
              "      --hover-fill-color: #174EA6;\n",
              "      --disabled-fill-color: #AAA;\n",
              "      --disabled-bg-color: #DDD;\n",
              "  }\n",
              "\n",
              "  [theme=dark] .colab-df-quickchart {\n",
              "      --bg-color: #3B4455;\n",
              "      --fill-color: #D2E3FC;\n",
              "      --hover-bg-color: #434B5C;\n",
              "      --hover-fill-color: #FFFFFF;\n",
              "      --disabled-bg-color: #3B4455;\n",
              "      --disabled-fill-color: #666;\n",
              "  }\n",
              "\n",
              "  .colab-df-quickchart {\n",
              "    background-color: var(--bg-color);\n",
              "    border: none;\n",
              "    border-radius: 50%;\n",
              "    cursor: pointer;\n",
              "    display: none;\n",
              "    fill: var(--fill-color);\n",
              "    height: 32px;\n",
              "    padding: 0;\n",
              "    width: 32px;\n",
              "  }\n",
              "\n",
              "  .colab-df-quickchart:hover {\n",
              "    background-color: var(--hover-bg-color);\n",
              "    box-shadow: 0 1px 2px rgba(60, 64, 67, 0.3), 0 1px 3px 1px rgba(60, 64, 67, 0.15);\n",
              "    fill: var(--button-hover-fill-color);\n",
              "  }\n",
              "\n",
              "  .colab-df-quickchart-complete:disabled,\n",
              "  .colab-df-quickchart-complete:disabled:hover {\n",
              "    background-color: var(--disabled-bg-color);\n",
              "    fill: var(--disabled-fill-color);\n",
              "    box-shadow: none;\n",
              "  }\n",
              "\n",
              "  .colab-df-spinner {\n",
              "    border: 2px solid var(--fill-color);\n",
              "    border-color: transparent;\n",
              "    border-bottom-color: var(--fill-color);\n",
              "    animation:\n",
              "      spin 1s steps(1) infinite;\n",
              "  }\n",
              "\n",
              "  @keyframes spin {\n",
              "    0% {\n",
              "      border-color: transparent;\n",
              "      border-bottom-color: var(--fill-color);\n",
              "      border-left-color: var(--fill-color);\n",
              "    }\n",
              "    20% {\n",
              "      border-color: transparent;\n",
              "      border-left-color: var(--fill-color);\n",
              "      border-top-color: var(--fill-color);\n",
              "    }\n",
              "    30% {\n",
              "      border-color: transparent;\n",
              "      border-left-color: var(--fill-color);\n",
              "      border-top-color: var(--fill-color);\n",
              "      border-right-color: var(--fill-color);\n",
              "    }\n",
              "    40% {\n",
              "      border-color: transparent;\n",
              "      border-right-color: var(--fill-color);\n",
              "      border-top-color: var(--fill-color);\n",
              "    }\n",
              "    60% {\n",
              "      border-color: transparent;\n",
              "      border-right-color: var(--fill-color);\n",
              "    }\n",
              "    80% {\n",
              "      border-color: transparent;\n",
              "      border-right-color: var(--fill-color);\n",
              "      border-bottom-color: var(--fill-color);\n",
              "    }\n",
              "    90% {\n",
              "      border-color: transparent;\n",
              "      border-bottom-color: var(--fill-color);\n",
              "    }\n",
              "  }\n",
              "</style>\n",
              "\n",
              "      <script>\n",
              "        async function quickchart(key) {\n",
              "          const quickchartButtonEl =\n",
              "            document.querySelector('#' + key + ' button');\n",
              "          quickchartButtonEl.disabled = true;  // To prevent multiple clicks.\n",
              "          quickchartButtonEl.classList.add('colab-df-spinner');\n",
              "          try {\n",
              "            const charts = await google.colab.kernel.invokeFunction(\n",
              "                'suggestCharts', [key], {});\n",
              "          } catch (error) {\n",
              "            console.error('Error during call to suggestCharts:', error);\n",
              "          }\n",
              "          quickchartButtonEl.classList.remove('colab-df-spinner');\n",
              "          quickchartButtonEl.classList.add('colab-df-quickchart-complete');\n",
              "        }\n",
              "        (() => {\n",
              "          let quickchartButtonEl =\n",
              "            document.querySelector('#df-fda92c51-7bca-4931-b767-c4153266e85d button');\n",
              "          quickchartButtonEl.style.display =\n",
              "            google.colab.kernel.accessAllowed ? 'block' : 'none';\n",
              "        })();\n",
              "      </script>\n",
              "    </div>\n",
              "\n",
              "    </div>\n",
              "  </div>\n"
            ],
            "application/vnd.google.colaboratory.intrinsic+json": {
              "type": "dataframe",
              "variable_name": "df",
              "summary": "{\n  \"name\": \"df\",\n  \"rows\": 200,\n  \"fields\": [\n    {\n      \"column\": \"Id\",\n      \"properties\": {\n        \"dtype\": \"number\",\n        \"std\": 57,\n        \"min\": 1,\n        \"max\": 200,\n        \"num_unique_values\": 200,\n        \"samples\": [\n          96,\n          16,\n          31\n        ],\n        \"semantic_type\": \"\",\n        \"description\": \"\"\n      }\n    },\n    {\n      \"column\": \"Sentiment\",\n      \"properties\": {\n        \"dtype\": \"category\",\n        \"num_unique_values\": 2,\n        \"samples\": [\n          \"positive\",\n          \"negative\"\n        ],\n        \"semantic_type\": \"\",\n        \"description\": \"\"\n      }\n    },\n    {\n      \"column\": \"Text Tweet\",\n      \"properties\": {\n        \"dtype\": \"string\",\n        \"num_unique_values\": 198,\n        \"samples\": [\n          \"bnyak yg bilang film Mummy jelek, pdahl pengen nonton\",\n          \"#DANUR film horor Indonesia terlaris sepanjang masa dengan 2.690.000 penonton sejak tayang 30 Maret 2017. #ManojPunjabi #DanurMovie\"\n        ],\n        \"semantic_type\": \"\",\n        \"description\": \"\"\n      }\n    }\n  ]\n}"
            }
          },
          "metadata": {},
          "execution_count": 4
        }
      ]
    },
    {
      "cell_type": "code",
      "source": [
        "# Menghapus kolom yang tidak diperlukan\n",
        "df = df.drop(columns=['Id'])"
      ],
      "metadata": {
        "id": "XGWh9FZnUiUa"
      },
      "execution_count": 5,
      "outputs": []
    },
    {
      "cell_type": "code",
      "source": [
        "print(\"\\n--- Data Awal (5 Baris Pertama) ---\")\n",
        "print(df.head())\n",
        "print(\"\\n\")\n",
        "print(df.info())"
      ],
      "metadata": {
        "colab": {
          "base_uri": "https://localhost:8080/"
        },
        "id": "q3C6gfRZUkw7",
        "outputId": "305bb6e7-4c22-43a4-e40d-0e00e22c8c0d"
      },
      "execution_count": 6,
      "outputs": [
        {
          "output_type": "stream",
          "name": "stdout",
          "text": [
            "\n",
            "--- Data Awal (5 Baris Pertama) ---\n",
            "  Sentiment                                         Text Tweet\n",
            "0  negative  Jelek filmnya... apalagi si ernest gak mutu bg...\n",
            "1  negative  Film king Arthur ini film paling jelek dari se...\n",
            "2  negative  @beexkuanlin Sepanjang film gwa berkata kasar ...\n",
            "3  negative  Ane ga suka fast and furious..menurutku kok je...\n",
            "4  negative  @baekhyun36 kan gua ga tau film nya, lu bilang...\n",
            "\n",
            "\n",
            "<class 'pandas.core.frame.DataFrame'>\n",
            "RangeIndex: 200 entries, 0 to 199\n",
            "Data columns (total 2 columns):\n",
            " #   Column      Non-Null Count  Dtype \n",
            "---  ------      --------------  ----- \n",
            " 0   Sentiment   200 non-null    object\n",
            " 1   Text Tweet  200 non-null    object\n",
            "dtypes: object(2)\n",
            "memory usage: 3.3+ KB\n",
            "None\n"
          ]
        }
      ]
    },
    {
      "cell_type": "markdown",
      "source": [
        "## **Preprocessing Data**"
      ],
      "metadata": {
        "id": "_M4Gl0cJ8Jik"
      }
    },
    {
      "cell_type": "code",
      "source": [
        "# --- Pra-pemrosesan Data ---\n",
        "\n",
        "# 1. Pembersihan Teks Sederhana\n",
        "def clean_text(text):\n",
        "    text = text.lower() # Ubah ke huruf kecil\n",
        "    text = re.sub(r'@[A-Za-z0-9]+', ' ', text) # Hapus mention (@user)\n",
        "    text = re.sub(r'https?://\\S+|www\\.\\S+', ' ', text) # Hapus URL\n",
        "    text = re.sub(r'[^\\w\\s]', ' ', text) # Hapus tanda baca\n",
        "    text = re.sub(r'\\s+', ' ', text).strip() # Hapus spasi berlebih\n",
        "    return text\n",
        "\n",
        "df['Text Tweet Cleaned'] = df['Text Tweet'].apply(clean_text)\n",
        "\n",
        "print(\"\\n--- Data Setelah Pembersihan Teks (5 Baris Pertama) ---\")\n",
        "print(df[['Text Tweet', 'Text Tweet Cleaned']].head())"
      ],
      "metadata": {
        "colab": {
          "base_uri": "https://localhost:8080/"
        },
        "id": "-zjSf-vjUvqE",
        "outputId": "3dadb9f2-1962-4db6-f1d6-395a9492c925"
      },
      "execution_count": 7,
      "outputs": [
        {
          "output_type": "stream",
          "name": "stdout",
          "text": [
            "\n",
            "--- Data Setelah Pembersihan Teks (5 Baris Pertama) ---\n",
            "                                          Text Tweet  \\\n",
            "0  Jelek filmnya... apalagi si ernest gak mutu bg...   \n",
            "1  Film king Arthur ini film paling jelek dari se...   \n",
            "2  @beexkuanlin Sepanjang film gwa berkata kasar ...   \n",
            "3  Ane ga suka fast and furious..menurutku kok je...   \n",
            "4  @baekhyun36 kan gua ga tau film nya, lu bilang...   \n",
            "\n",
            "                                  Text Tweet Cleaned  \n",
            "0  jelek filmnya apalagi si ernest gak mutu bgt a...  \n",
            "1  film king arthur ini film paling jelek dari se...  \n",
            "2  sepanjang film gwa berkata kasar terus pada ba...  \n",
            "3  ane ga suka fast and furious menurutku kok jel...  \n",
            "4  kan gua ga tau film nya lu bilang perang peran...  \n"
          ]
        }
      ]
    },
    {
      "cell_type": "code",
      "source": [
        "# Hitung rata-rata dan panjang maksimum tweet setelah pembersihan\n",
        "tweet_lengths = df['Text Tweet Cleaned'].apply(lambda x: len(x.split()))\n",
        "avg_len = tweet_lengths.mean()\n",
        "max_len_calc = tweet_lengths.max()\n",
        "\n",
        "print(f\"\\nRata-rata panjang tweet: {avg_len:.0f} kata\")\n",
        "print(f\"Panjang tweet maksimum: {max_len_calc} kata\")"
      ],
      "metadata": {
        "colab": {
          "base_uri": "https://localhost:8080/"
        },
        "id": "JzISjgWodHZy",
        "outputId": "a551e863-07ae-4c7f-da85-fed568e3e0a3"
      },
      "execution_count": 8,
      "outputs": [
        {
          "output_type": "stream",
          "name": "stdout",
          "text": [
            "\n",
            "Rata-rata panjang tweet: 15 kata\n",
            "Panjang tweet maksimum: 25 kata\n"
          ]
        }
      ]
    },
    {
      "cell_type": "code",
      "source": [
        "# Revisi MAX_LEN: Ambil nilai yang lebih realistis (misalnya rata-rata + 2 kali deviasi standar, atau maks 30)\n",
        "MAX_LEN = min(int(avg_len + 2 * tweet_lengths.std()), 30)\n",
        "if MAX_LEN < 15: MAX_LEN = 15 # Pastikan tidak terlalu pendek\n",
        "\n",
        "print(f\"MAX_LEN baru yang digunakan: {MAX_LEN}\")"
      ],
      "metadata": {
        "colab": {
          "base_uri": "https://localhost:8080/"
        },
        "id": "7k2vtfPcdN8P",
        "outputId": "83002354-7f07-47b7-b714-3fc2099c24b2"
      },
      "execution_count": 9,
      "outputs": [
        {
          "output_type": "stream",
          "name": "stdout",
          "text": [
            "MAX_LEN baru yang digunakan: 25\n"
          ]
        }
      ]
    },
    {
      "cell_type": "code",
      "source": [
        "le = LabelEncoder()\n",
        "df['Sentiment_Encoded'] = le.fit_transform(df['Sentiment'])\n",
        "# 'negative' -> 0, 'positive' -> 1 (berdasarkan abjad)\n",
        "\n",
        "# Definisikan X (fitur) dan y (target)\n",
        "X = df['Text Tweet Cleaned'].values\n",
        "y = df['Sentiment_Encoded'].values\n",
        "\n",
        "# Pemisahan Data Latih dan Uji\n",
        "X_train, X_test, y_train, y_test = train_test_split(X, y, test_size=0.1, random_state=42, stratify=y)\n",
        "\n",
        "print(f\"\\nJumlah data latih: {len(X_train)}\")\n",
        "print(f\"Jumlah data uji: {len(X_test)}\")"
      ],
      "metadata": {
        "colab": {
          "base_uri": "https://localhost:8080/"
        },
        "id": "MTGu--7MdRYR",
        "outputId": "06886f0f-e734-473e-cb1a-a229c6079dc3"
      },
      "execution_count": 10,
      "outputs": [
        {
          "output_type": "stream",
          "name": "stdout",
          "text": [
            "\n",
            "Jumlah data latih: 180\n",
            "Jumlah data uji: 20\n"
          ]
        }
      ]
    },
    {
      "cell_type": "code",
      "source": [
        "# Parameter untuk Tokenizer dan Padding\n",
        "VOCAB_SIZE = 7000 # Maksimal kata yang akan dipertahankan\n",
        "OOV_TOKEN = \"<OOV>\" # Token untuk kata di luar vocabulary\n",
        "MAX_LEN = 50\n",
        "\n",
        "tokenizer = Tokenizer(num_words=VOCAB_SIZE, oov_token=OOV_TOKEN)\n",
        "tokenizer.fit_on_texts(X_train)\n",
        "\n",
        "# Mengubah teks menjadi urutan angka\n",
        "X_train_sequences = tokenizer.texts_to_sequences(X_train)\n",
        "X_test_sequences = tokenizer.texts_to_sequences(X_test)\n",
        "\n",
        "# Menyamakan panjang semua sequence\n",
        "X_train_padded = pad_sequences(X_train_sequences, maxlen=MAX_LEN, padding='post', truncating='post')\n",
        "X_test_padded = pad_sequences(X_test_sequences, maxlen=MAX_LEN, padding='post', truncating='post')\n",
        "\n",
        "print(f\"\\nBentuk data latih setelah padding: {X_train_padded.shape}\")\n",
        "print(f\"Bentuk data uji setelah padding: {X_test_padded.shape}\")"
      ],
      "metadata": {
        "colab": {
          "base_uri": "https://localhost:8080/"
        },
        "id": "sBrbVUWHdhI-",
        "outputId": "9753b3c9-923d-496e-ac6b-0bfe1cdacb84"
      },
      "execution_count": 11,
      "outputs": [
        {
          "output_type": "stream",
          "name": "stdout",
          "text": [
            "\n",
            "Bentuk data latih setelah padding: (180, 50)\n",
            "Bentuk data uji setelah padding: (20, 50)\n"
          ]
        }
      ]
    },
    {
      "cell_type": "markdown",
      "source": [
        "## **Modelling**"
      ],
      "metadata": {
        "id": "8KGfSic_8aTF"
      }
    },
    {
      "cell_type": "code",
      "source": [
        "# --- Membangun Model SimpleRNN ---\n",
        "vocab_size = len(tokenizer.word_index) + 1\n",
        "EMBEDDING_DIM = 128\n",
        "\n",
        "model = Sequential([\n",
        "    # Layer Embedding untuk mengubah integer menjadi vektor padat\n",
        "    Embedding(VOCAB_SIZE, EMBEDDING_DIM, input_length=MAX_LEN),\n",
        "\n",
        "    # Layer Dropout\n",
        "    Dropout(0.5),\n",
        "\n",
        "    # Layer SimpleRNN\n",
        "    SimpleRNN(16),\n",
        "\n",
        "    # Layer output dengan aktivasi sigmoid untuk klasifikasi biner\n",
        "    Dense(1, activation='sigmoid')\n",
        "])"
      ],
      "metadata": {
        "colab": {
          "base_uri": "https://localhost:8080/"
        },
        "id": "luqgvXZnU5Kz",
        "outputId": "c84938ae-0957-4eaa-a253-212cfd8fe01b"
      },
      "execution_count": 12,
      "outputs": [
        {
          "output_type": "stream",
          "name": "stderr",
          "text": [
            "/usr/local/lib/python3.12/dist-packages/keras/src/layers/core/embedding.py:97: UserWarning: Argument `input_length` is deprecated. Just remove it.\n",
            "  warnings.warn(\n"
          ]
        }
      ]
    },
    {
      "cell_type": "code",
      "source": [
        "# --- Kompilasi Model ---\n",
        "adam_optimizer = Adam(learning_rate=0.0001)\n",
        "\n",
        "model.compile(optimizer=adam_optimizer,\n",
        "              loss='binary_crossentropy',\n",
        "              metrics=['accuracy'])"
      ],
      "metadata": {
        "id": "msNNcHbgU8L6"
      },
      "execution_count": 13,
      "outputs": []
    },
    {
      "cell_type": "code",
      "source": [
        "# --- Melatih Model ---\n",
        "\n",
        "# Konfigurasi EarlyStopping untuk memantau val_loss\n",
        "early_stopping = EarlyStopping(monitor='val_loss', patience=5, restore_best_weights=True)\n",
        "\n",
        "print(\"Memulai proses training model...\")\n",
        "history = model.fit(X_train_padded, y_train,\n",
        "                    epochs=50,\n",
        "                    batch_size=16,\n",
        "                    validation_data=(X_test_padded, y_test),\n",
        "                    verbose=2,\n",
        "                    callbacks=[early_stopping])\n",
        "\n",
        "print(\"\\nTraining selesai.\")"
      ],
      "metadata": {
        "colab": {
          "base_uri": "https://localhost:8080/"
        },
        "id": "gRzISSBhU_-y",
        "outputId": "cf7dd87f-45bd-4755-f5e5-b6d379f5ec58"
      },
      "execution_count": 14,
      "outputs": [
        {
          "output_type": "stream",
          "name": "stdout",
          "text": [
            "Memulai proses training model...\n",
            "Epoch 1/50\n",
            "12/12 - 3s - 282ms/step - accuracy: 0.5000 - loss: 0.7761 - val_accuracy: 0.5000 - val_loss: 0.7402\n",
            "Epoch 2/50\n",
            "12/12 - 0s - 39ms/step - accuracy: 0.5111 - loss: 0.7091 - val_accuracy: 0.6500 - val_loss: 0.6811\n",
            "Epoch 3/50\n",
            "12/12 - 0s - 24ms/step - accuracy: 0.4778 - loss: 0.7033 - val_accuracy: 0.5000 - val_loss: 0.6814\n",
            "Epoch 4/50\n",
            "12/12 - 0s - 24ms/step - accuracy: 0.5833 - loss: 0.6796 - val_accuracy: 0.7000 - val_loss: 0.6774\n",
            "Epoch 5/50\n",
            "12/12 - 0s - 26ms/step - accuracy: 0.5389 - loss: 0.6893 - val_accuracy: 0.6500 - val_loss: 0.6769\n",
            "Epoch 6/50\n",
            "12/12 - 0s - 24ms/step - accuracy: 0.5444 - loss: 0.6800 - val_accuracy: 0.6500 - val_loss: 0.6760\n",
            "Epoch 7/50\n",
            "12/12 - 0s - 33ms/step - accuracy: 0.5444 - loss: 0.6769 - val_accuracy: 0.6500 - val_loss: 0.6751\n",
            "Epoch 8/50\n",
            "12/12 - 1s - 72ms/step - accuracy: 0.5611 - loss: 0.6738 - val_accuracy: 0.6500 - val_loss: 0.6732\n",
            "Epoch 9/50\n",
            "12/12 - 1s - 56ms/step - accuracy: 0.6000 - loss: 0.6697 - val_accuracy: 0.6500 - val_loss: 0.6728\n",
            "Epoch 10/50\n",
            "12/12 - 1s - 61ms/step - accuracy: 0.6389 - loss: 0.6579 - val_accuracy: 0.6500 - val_loss: 0.6717\n",
            "Epoch 11/50\n",
            "12/12 - 1s - 99ms/step - accuracy: 0.7000 - loss: 0.6508 - val_accuracy: 0.7000 - val_loss: 0.6671\n",
            "Epoch 12/50\n",
            "12/12 - 1s - 107ms/step - accuracy: 0.7278 - loss: 0.6285 - val_accuracy: 0.6500 - val_loss: 0.6632\n",
            "Epoch 13/50\n",
            "12/12 - 1s - 121ms/step - accuracy: 0.7222 - loss: 0.6255 - val_accuracy: 0.7000 - val_loss: 0.6622\n",
            "Epoch 14/50\n",
            "12/12 - 1s - 66ms/step - accuracy: 0.7667 - loss: 0.6019 - val_accuracy: 0.7000 - val_loss: 0.6559\n",
            "Epoch 15/50\n",
            "12/12 - 0s - 31ms/step - accuracy: 0.8500 - loss: 0.5802 - val_accuracy: 0.7500 - val_loss: 0.6484\n",
            "Epoch 16/50\n",
            "12/12 - 0s - 24ms/step - accuracy: 0.8611 - loss: 0.5655 - val_accuracy: 0.7500 - val_loss: 0.6409\n",
            "Epoch 17/50\n",
            "12/12 - 0s - 24ms/step - accuracy: 0.8778 - loss: 0.5369 - val_accuracy: 0.7500 - val_loss: 0.6317\n",
            "Epoch 18/50\n",
            "12/12 - 0s - 25ms/step - accuracy: 0.8833 - loss: 0.5043 - val_accuracy: 0.7000 - val_loss: 0.6256\n",
            "Epoch 19/50\n",
            "12/12 - 0s - 39ms/step - accuracy: 0.9056 - loss: 0.4843 - val_accuracy: 0.7500 - val_loss: 0.6196\n",
            "Epoch 20/50\n",
            "12/12 - 0s - 37ms/step - accuracy: 0.8944 - loss: 0.4779 - val_accuracy: 0.7500 - val_loss: 0.6226\n",
            "Epoch 21/50\n",
            "12/12 - 0s - 38ms/step - accuracy: 0.9222 - loss: 0.4309 - val_accuracy: 0.7000 - val_loss: 0.6235\n",
            "Epoch 22/50\n",
            "12/12 - 0s - 40ms/step - accuracy: 0.9222 - loss: 0.4179 - val_accuracy: 0.7000 - val_loss: 0.6289\n",
            "Epoch 23/50\n",
            "12/12 - 0s - 38ms/step - accuracy: 0.9722 - loss: 0.3774 - val_accuracy: 0.5500 - val_loss: 0.6433\n",
            "Epoch 24/50\n",
            "12/12 - 0s - 34ms/step - accuracy: 0.9611 - loss: 0.3702 - val_accuracy: 0.5000 - val_loss: 0.6492\n",
            "\n",
            "Training selesai.\n"
          ]
        }
      ]
    },
    {
      "cell_type": "markdown",
      "source": [
        "## **Hasil dan Evaluasi**"
      ],
      "metadata": {
        "id": "L3Z3vMya8kyN"
      }
    },
    {
      "cell_type": "code",
      "source": [
        "# --- Evaluasi Model ---\n",
        "\n",
        "print(\"\\n--- Evaluasi Model pada Data Uji ---\")\n",
        "loss, accuracy = model.evaluate(X_test_padded, y_test, verbose=0)\n",
        "\n",
        "print(f\"Akurasi Model pada Data Uji: {accuracy*100:.2f}%\")\n",
        "print(f\"Loss Model pada Data Uji: {loss:.4f}\")"
      ],
      "metadata": {
        "colab": {
          "base_uri": "https://localhost:8080/"
        },
        "id": "ubT4wp2VVEMR",
        "outputId": "2d156ed4-fbae-4cca-d16c-9d2f89db07d2"
      },
      "execution_count": 15,
      "outputs": [
        {
          "output_type": "stream",
          "name": "stdout",
          "text": [
            "\n",
            "--- Evaluasi Model pada Data Uji ---\n",
            "Akurasi Model pada Data Uji: 75.00%\n",
            "Loss Model pada Data Uji: 0.6196\n"
          ]
        }
      ]
    },
    {
      "cell_type": "code",
      "source": [
        "# --- Melakukan Prediksi pada Data Test ---\n",
        "\n",
        "# Melakukan prediksi pada seluruh data test\n",
        "predictions = model.predict(X_test_padded)\n",
        "# Mengubah probabilitas menjadi kelas biner (0 atau 1)\n",
        "predicted_classes = (predictions > 0.5).astype(\"int32\")\n",
        "\n",
        "# Membuat pemetaan dari indeks ke kata untuk decode sekuens\n",
        "reverse_word_index = {value: key for key, value in tokenizer.word_index.items()}\n",
        "\n",
        "def decode_sequence(sequence):\n",
        "    # Fungsi untuk mengubah sekuens angka kembali menjadi teks\n",
        "    return ' '.join([reverse_word_index.get(i, '?') for i in sequence if i != 0])\n",
        "\n",
        "# Menampilkan 5 contoh hasil prediksi\n",
        "print(\"\\n\" + \"=\"*30)\n",
        "print(\"Contoh Hasil Prediksi pada Data Test:\")\n",
        "print(\"=\"*30)\n",
        "\n",
        "for i in range(5):\n",
        "    print(f\"{i+1}\")\n",
        "\n",
        "    # Mengambil teks asli dari sekuens yang sudah di-decode\n",
        "    original_text = decode_sequence(X_test_padded[i])\n",
        "    print(f\"Teks Asli (decoded): {original_text}\")\n",
        "\n",
        "    # Label asli dan prediksi\n",
        "    true_label = \"Positif\" if y_test[i] == 1 else \"Negatif\"\n",
        "    predicted_label = \"Positif\" if predicted_classes[i][0] == 1 else \"Negatif\"\n",
        "\n",
        "    print(f\"Sentimen Asli    : {true_label}\")\n",
        "    print(f\"Sentimen Prediksi : {predicted_label}\")\n",
        "    print(f\"Probabilitas      : {predictions[i][0]:.4f}\")\n",
        "    print(\"-\" * 20)"
      ],
      "metadata": {
        "id": "HCoOwLaYVlBz",
        "outputId": "3ed5089d-4505-4826-c941-e95d73181570",
        "colab": {
          "base_uri": "https://localhost:8080/"
        }
      },
      "execution_count": 16,
      "outputs": [
        {
          "output_type": "stream",
          "name": "stdout",
          "text": [
            "\u001b[1m1/1\u001b[0m \u001b[32m━━━━━━━━━━━━━━━━━━━━\u001b[0m\u001b[37m\u001b[0m \u001b[1m0s\u001b[0m 173ms/step\n",
            "\n",
            "==============================\n",
            "Contoh Hasil Prediksi pada Data Test:\n",
            "==============================\n",
            "1\n",
            "Teks Asli (decoded): <OOV> film bagian ini jijk parah\n",
            "Sentimen Asli    : Negatif\n",
            "Sentimen Prediksi : Negatif\n",
            "Probabilitas      : 0.4272\n",
            "--------------------\n",
            "2\n",
            "Teks Asli (decoded): <OOV> mbah film ini keren <OOV> to <OOV> <OOV> bisa <OOV> <OOV> abis nonton\n",
            "Sentimen Asli    : Positif\n",
            "Sentimen Prediksi : Negatif\n",
            "Probabilitas      : 0.3215\n",
            "--------------------\n",
            "3\n",
            "Teks Asli (decoded): <OOV> lebih <OOV> nilai film jelek <OOV> nilai film bagus <OOV>\n",
            "Sentimen Asli    : Negatif\n",
            "Sentimen Prediksi : Negatif\n",
            "Probabilitas      : 0.4737\n",
            "--------------------\n",
            "4\n",
            "Teks Asli (decoded): nah ini coba nonton filmnya deh asik parah\n",
            "Sentimen Asli    : Positif\n",
            "Sentimen Prediksi : Positif\n",
            "Probabilitas      : 0.7176\n",
            "--------------------\n",
            "5\n",
            "Teks Asli (decoded): ternyata <OOV> film <OOV> <OOV> jelekk\n",
            "Sentimen Asli    : Negatif\n",
            "Sentimen Prediksi : Negatif\n",
            "Probabilitas      : 0.4467\n",
            "--------------------\n"
          ]
        }
      ]
    },
    {
      "cell_type": "code",
      "source": [
        "def predict_sentiment(text):\n",
        "    \"\"\"\n",
        "    Fungsi untuk memprediksi sentimen dari sebuah kalimat input.\n",
        "    \"\"\"\n",
        "    # 1. Bersihkan teks input menggunakan fungsi yang sama\n",
        "    cleaned_text = clean_text(text)\n",
        "\n",
        "    # 2. Ubah teks menjadi sekuens integer menggunakan tokenizer yang sama\n",
        "    # Perlu diubah menjadi list karena tokenizer mengharapkan iterable\n",
        "    sequence = tokenizer.texts_to_sequences([cleaned_text])\n",
        "\n",
        "    # 3. Lakukan padding pada sekuens\n",
        "    padded_sequence = pad_sequences(sequence, maxlen=MAX_LEN, padding='post', truncating='post')\n",
        "\n",
        "    # 4. Lakukan prediksi dengan model\n",
        "    prediction = model.predict(padded_sequence)\n",
        "    probability = prediction[0][0]\n",
        "\n",
        "    # 5. Interpretasikan hasilnya\n",
        "    print(f\"Teks Input: '{text}'\")\n",
        "    if probability > 0.5:\n",
        "        sentiment = \"Positif\"\n",
        "        confidence = probability * 100\n",
        "    else:\n",
        "        sentiment = \"Negatif\"\n",
        "        confidence = (1 - probability) * 100\n",
        "\n",
        "    print(f\"Prediksi Sentimen: {sentiment} (Keyakinan: {confidence:.2f}%)\")\n",
        "    print(f\"Skor Probabilitas Mentah: {probability:.4f}\")\n",
        "    print(\"-\" * 30)\n",
        "\n",
        "# Contoh kalimat positif\n",
        "kalimat_positif = \"Filmnya keren banget, ceritanya seru dan aktingnya memukau!\"\n",
        "predict_sentiment(kalimat_positif)\n",
        "\n",
        "# Contoh kalimat negatif\n",
        "kalimat_negatif = \"Ceritanya membosankan dan alurnya lambat sekali, saya kecewa.\"\n",
        "predict_sentiment(kalimat_negatif)\n",
        "\n",
        "# Coba dengan kalimat Anda sendiri\n",
        "kalimat_custom = \"Awalnya bagus tapi endingnya jelek banget\"\n",
        "predict_sentiment(kalimat_custom)"
      ],
      "metadata": {
        "colab": {
          "base_uri": "https://localhost:8080/"
        },
        "id": "fq-xMn7l73qa",
        "outputId": "4d3403a7-fb03-4621-9786-35eb5af3c220"
      },
      "execution_count": 17,
      "outputs": [
        {
          "output_type": "stream",
          "name": "stdout",
          "text": [
            "\u001b[1m1/1\u001b[0m \u001b[32m━━━━━━━━━━━━━━━━━━━━\u001b[0m\u001b[37m\u001b[0m \u001b[1m0s\u001b[0m 174ms/step\n",
            "Teks Input: 'Filmnya keren banget, ceritanya seru dan aktingnya memukau!'\n",
            "Prediksi Sentimen: Negatif (Keyakinan: 65.15%)\n",
            "Skor Probabilitas Mentah: 0.3485\n",
            "------------------------------\n",
            "\u001b[1m1/1\u001b[0m \u001b[32m━━━━━━━━━━━━━━━━━━━━\u001b[0m\u001b[37m\u001b[0m \u001b[1m0s\u001b[0m 36ms/step\n",
            "Teks Input: 'Ceritanya membosankan dan alurnya lambat sekali, saya kecewa.'\n",
            "Prediksi Sentimen: Positif (Keyakinan: 62.05%)\n",
            "Skor Probabilitas Mentah: 0.6205\n",
            "------------------------------\n",
            "\u001b[1m1/1\u001b[0m \u001b[32m━━━━━━━━━━━━━━━━━━━━\u001b[0m\u001b[37m\u001b[0m \u001b[1m0s\u001b[0m 37ms/step\n",
            "Teks Input: 'Awalnya bagus tapi endingnya jelek banget'\n",
            "Prediksi Sentimen: Positif (Keyakinan: 57.28%)\n",
            "Skor Probabilitas Mentah: 0.5728\n",
            "------------------------------\n"
          ]
        }
      ]
    },
    {
      "cell_type": "code",
      "source": [
        "# --- OPSI TAMBAHAN: Prediksi Contoh Baru ---\n",
        "def predict_sentiment(text_input):\n",
        "    # Bersihkan teks\n",
        "    cleaned_text = clean_text(text_input)\n",
        "    # Tokenisasi\n",
        "    seq = tokenizer.texts_to_sequences([cleaned_text])\n",
        "    # Padding\n",
        "    padded = pad_sequences(seq, maxlen=MAX_LEN, padding='post', truncating='post')\n",
        "    # Prediksi\n",
        "    prediction = model.predict(padded)[0][0]\n",
        "\n",
        "    sentiment = \"Positive\" if prediction >= 0.5 else \"Negative\"\n",
        "\n",
        "    return f\"Teks: '{text_input}'\\nPrediksi Probabilitas (Positive): {prediction:.4f}\\nSentimen: {sentiment}\"\n",
        "\n",
        "# Contoh tweet\n",
        "new_tweet_1 = \"Film ini sangat bagus, saya suka plot twistnya!\"\n",
        "new_tweet_2 = \"Jelek sekali, alur ceritanya membosankan dan bikin ngantuk.\"\n",
        "\n",
        "print(\"\\n--- Hasil Prediksi Contoh Baru ---\")\n",
        "print(predict_sentiment(new_tweet_1))\n",
        "print(\"-\" * 30)\n",
        "print(predict_sentiment(new_tweet_2))"
      ],
      "metadata": {
        "colab": {
          "base_uri": "https://localhost:8080/"
        },
        "id": "kzI23NSJltfi",
        "outputId": "754885d6-d017-4679-e83c-9d716dc622f2"
      },
      "execution_count": 18,
      "outputs": [
        {
          "output_type": "stream",
          "name": "stdout",
          "text": [
            "\n",
            "--- Hasil Prediksi Contoh Baru ---\n",
            "\u001b[1m1/1\u001b[0m \u001b[32m━━━━━━━━━━━━━━━━━━━━\u001b[0m\u001b[37m\u001b[0m \u001b[1m0s\u001b[0m 37ms/step\n",
            "Teks: 'Film ini sangat bagus, saya suka plot twistnya!'\n",
            "Prediksi Probabilitas (Positive): 0.6025\n",
            "Sentimen: Positive\n",
            "------------------------------\n",
            "\u001b[1m1/1\u001b[0m \u001b[32m━━━━━━━━━━━━━━━━━━━━\u001b[0m\u001b[37m\u001b[0m \u001b[1m0s\u001b[0m 42ms/step\n",
            "Teks: 'Jelek sekali, alur ceritanya membosankan dan bikin ngantuk.'\n",
            "Prediksi Probabilitas (Positive): 0.6404\n",
            "Sentimen: Positive\n"
          ]
        }
      ]
    },
    {
      "cell_type": "code",
      "source": [
        "# Tambahkan kode ini di Colab setelah model Anda selesai di-training\n",
        "\n",
        "print(\"\\n\\n--- PENGUJIAN DENGAN DATA BARU (OUT-OF-SAMPLE) ---\")\n",
        "\n",
        "# Definisikan data baru dalam list\n",
        "new_data_to_test = [\n",
        "    \"Akhirnya nonton! Film ini benar-benar karya masterpiece, sinematografinya memukau!\", # Positif\n",
        "    \"Menyesal menghabiskan dua jam di bioskop, alurnya lambat dan akting para pemainnya datar.\", # Negatif\n",
        "    \"Gila! Plot twist di akhir film bikin saya merinding. Sangat direkomendasikan.\", # Positif\n",
        "    \"Ekspektasi tinggi, tapi eksekusi filmnya sangat mengecewakan. Cerita jadi berantakan.\", # Negatif\n",
        "    \"Musik latarnya pas banget, sukses membawa emosi penonton. Lima bintang untuk film ini!\", # Positif\n",
        "    \"Jujur, saya hampir tertidur di tengah film. Dialognya basi dan tidak ada ketegangan sama sekali.\", # Negatif\n",
        "    \"Film horor terbaik tahun ini! Efek visualnya seram dan jalan ceritanya orisinal.\", # Positif\n",
        "    \"Sayang sekali, humor yang disajikan dalam film komedi ini garing dan maksa.\", # Negatif\n",
        "    \"Penampilan aktor utama sangat kuat dan mendalam. Layak dapat penghargaan.\", # Positif\n",
        "    \"Dari awal sampai akhir, film ini terasa membingungkan. Jelas sekali ini film gagal.\" # Negatif\n",
        "]\n",
        "\n",
        "for i, tweet in enumerate(new_data_to_test):\n",
        "    result = predict_sentiment(tweet)\n",
        "    print(f\"\\n--- Data Uji #{i+1} ---\")\n",
        "    print(result)"
      ],
      "metadata": {
        "colab": {
          "base_uri": "https://localhost:8080/"
        },
        "id": "JF51ulH0l6r2",
        "outputId": "d0e8baa5-3b89-4e62-f449-323193984289"
      },
      "execution_count": 19,
      "outputs": [
        {
          "output_type": "stream",
          "name": "stdout",
          "text": [
            "\n",
            "\n",
            "--- PENGUJIAN DENGAN DATA BARU (OUT-OF-SAMPLE) ---\n",
            "\u001b[1m1/1\u001b[0m \u001b[32m━━━━━━━━━━━━━━━━━━━━\u001b[0m\u001b[37m\u001b[0m \u001b[1m0s\u001b[0m 38ms/step\n",
            "\n",
            "--- Data Uji #1 ---\n",
            "Teks: 'Akhirnya nonton! Film ini benar-benar karya masterpiece, sinematografinya memukau!'\n",
            "Prediksi Probabilitas (Positive): 0.4530\n",
            "Sentimen: Negative\n",
            "\u001b[1m1/1\u001b[0m \u001b[32m━━━━━━━━━━━━━━━━━━━━\u001b[0m\u001b[37m\u001b[0m \u001b[1m0s\u001b[0m 39ms/step\n",
            "\n",
            "--- Data Uji #2 ---\n",
            "Teks: 'Menyesal menghabiskan dua jam di bioskop, alurnya lambat dan akting para pemainnya datar.'\n",
            "Prediksi Probabilitas (Positive): 0.6827\n",
            "Sentimen: Positive\n",
            "\u001b[1m1/1\u001b[0m \u001b[32m━━━━━━━━━━━━━━━━━━━━\u001b[0m\u001b[37m\u001b[0m \u001b[1m0s\u001b[0m 37ms/step\n",
            "\n",
            "--- Data Uji #3 ---\n",
            "Teks: 'Gila! Plot twist di akhir film bikin saya merinding. Sangat direkomendasikan.'\n",
            "Prediksi Probabilitas (Positive): 0.3902\n",
            "Sentimen: Negative\n",
            "\u001b[1m1/1\u001b[0m \u001b[32m━━━━━━━━━━━━━━━━━━━━\u001b[0m\u001b[37m\u001b[0m \u001b[1m0s\u001b[0m 38ms/step\n",
            "\n",
            "--- Data Uji #4 ---\n",
            "Teks: 'Ekspektasi tinggi, tapi eksekusi filmnya sangat mengecewakan. Cerita jadi berantakan.'\n",
            "Prediksi Probabilitas (Positive): 0.5264\n",
            "Sentimen: Positive\n",
            "\u001b[1m1/1\u001b[0m \u001b[32m━━━━━━━━━━━━━━━━━━━━\u001b[0m\u001b[37m\u001b[0m \u001b[1m0s\u001b[0m 42ms/step\n",
            "\n",
            "--- Data Uji #5 ---\n",
            "Teks: 'Musik latarnya pas banget, sukses membawa emosi penonton. Lima bintang untuk film ini!'\n",
            "Prediksi Probabilitas (Positive): 0.5327\n",
            "Sentimen: Positive\n",
            "\u001b[1m1/1\u001b[0m \u001b[32m━━━━━━━━━━━━━━━━━━━━\u001b[0m\u001b[37m\u001b[0m \u001b[1m0s\u001b[0m 39ms/step\n",
            "\n",
            "--- Data Uji #6 ---\n",
            "Teks: 'Jujur, saya hampir tertidur di tengah film. Dialognya basi dan tidak ada ketegangan sama sekali.'\n",
            "Prediksi Probabilitas (Positive): 0.3575\n",
            "Sentimen: Negative\n",
            "\u001b[1m1/1\u001b[0m \u001b[32m━━━━━━━━━━━━━━━━━━━━\u001b[0m\u001b[37m\u001b[0m \u001b[1m0s\u001b[0m 40ms/step\n",
            "\n",
            "--- Data Uji #7 ---\n",
            "Teks: 'Film horor terbaik tahun ini! Efek visualnya seram dan jalan ceritanya orisinal.'\n",
            "Prediksi Probabilitas (Positive): 0.4061\n",
            "Sentimen: Negative\n",
            "\u001b[1m1/1\u001b[0m \u001b[32m━━━━━━━━━━━━━━━━━━━━\u001b[0m\u001b[37m\u001b[0m \u001b[1m0s\u001b[0m 37ms/step\n",
            "\n",
            "--- Data Uji #8 ---\n",
            "Teks: 'Sayang sekali, humor yang disajikan dalam film komedi ini garing dan maksa.'\n",
            "Prediksi Probabilitas (Positive): 0.4589\n",
            "Sentimen: Negative\n",
            "\u001b[1m1/1\u001b[0m \u001b[32m━━━━━━━━━━━━━━━━━━━━\u001b[0m\u001b[37m\u001b[0m \u001b[1m0s\u001b[0m 37ms/step\n",
            "\n",
            "--- Data Uji #9 ---\n",
            "Teks: 'Penampilan aktor utama sangat kuat dan mendalam. Layak dapat penghargaan.'\n",
            "Prediksi Probabilitas (Positive): 0.3374\n",
            "Sentimen: Negative\n",
            "\u001b[1m1/1\u001b[0m \u001b[32m━━━━━━━━━━━━━━━━━━━━\u001b[0m\u001b[37m\u001b[0m \u001b[1m0s\u001b[0m 37ms/step\n",
            "\n",
            "--- Data Uji #10 ---\n",
            "Teks: 'Dari awal sampai akhir, film ini terasa membingungkan. Jelas sekali ini film gagal.'\n",
            "Prediksi Probabilitas (Positive): 0.5153\n",
            "Sentimen: Positive\n"
          ]
        }
      ]
    }
  ],
  "metadata": {
    "colab": {
      "provenance": []
    },
    "kernelspec": {
      "display_name": "Python 3",
      "name": "python3"
    },
    "language_info": {
      "name": "python"
    }
  },
  "nbformat": 4,
  "nbformat_minor": 0
}