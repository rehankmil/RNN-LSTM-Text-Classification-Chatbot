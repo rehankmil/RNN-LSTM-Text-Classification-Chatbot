{
  "cells": [
    {
      "cell_type": "markdown",
      "source": [
        "# **Chatbot Menggunakan Model LSTM**"
      ],
      "metadata": {
        "id": "stFV6YoK6LXh"
      }
    },
    {
      "cell_type": "markdown",
      "source": [
        "## **Import Libraries**"
      ],
      "metadata": {
        "id": "DH58boWa6YNZ"
      }
    },
    {
      "cell_type": "code",
      "source": [
        "# Import Libraries\n",
        "import json\n",
        "import re\n",
        "import numpy as np\n",
        "import pandas as pd\n",
        "import gdown\n",
        "\n",
        "from tensorflow.keras.preprocessing.text import Tokenizer\n",
        "from tensorflow.keras.preprocessing.sequence import pad_sequences\n",
        "from tensorflow.keras.models import Sequential\n",
        "from tensorflow.keras.layers import Embedding, LSTM, Dense\n",
        "from tensorflow.keras.layers import Bidirectional"
      ],
      "metadata": {
        "id": "04soVM96Sj69"
      },
      "execution_count": 1,
      "outputs": []
    },
    {
      "cell_type": "markdown",
      "source": [
        "## **Mengekstrak Dataset**"
      ],
      "metadata": {
        "id": "CSiChWG26ezJ"
      }
    },
    {
      "cell_type": "code",
      "source": [
        "# gdown for downloading files directly from Google Drive.\n",
        "from gdown import download\n",
        "\n",
        "id = \"1t5jfyXEyE0ZA_LKqPvUjFCevbERhYZvZ\"\n",
        "output = \"train-SQuAD-id.json\"\n",
        "download(id=id, output=output)"
      ],
      "metadata": {
        "colab": {
          "base_uri": "https://localhost:8080/",
          "height": 105
        },
        "id": "bYB3laXxSx2s",
        "outputId": "99278dbd-53d9-49b9-fde7-2e2219e0fc6a"
      },
      "execution_count": 2,
      "outputs": [
        {
          "output_type": "stream",
          "name": "stderr",
          "text": [
            "Downloading...\n",
            "From: https://drive.google.com/uc?id=1t5jfyXEyE0ZA_LKqPvUjFCevbERhYZvZ\n",
            "To: /content/train-SQuAD-id.json\n",
            "100%|██████████| 37.9M/37.9M [00:00<00:00, 51.5MB/s]\n"
          ]
        },
        {
          "output_type": "execute_result",
          "data": {
            "text/plain": [
              "'train-SQuAD-id.json'"
            ],
            "application/vnd.google.colaboratory.intrinsic+json": {
              "type": "string"
            }
          },
          "metadata": {},
          "execution_count": 2
        }
      ]
    },
    {
      "cell_type": "code",
      "source": [
        "# --- Memuat dan Mengekstrak Data dari File JSON ---\n",
        "nama_file = 'train-SQuAD-id.json'\n",
        "\n",
        "questions = []\n",
        "answers = []\n",
        "\n",
        "with open(nama_file, 'r', encoding='utf-8') as f:\n",
        "    data_chatbot = json.load(f)\n",
        "\n",
        "for article in data_chatbot['data']:\n",
        "    for paragraph in article['paragraphs']:\n",
        "        for qa in paragraph['qas']:\n",
        "            if qa['answers']:\n",
        "                questions.append(qa['question'])\n",
        "                answers.append(qa['answers'][0]['text'])\n",
        "\n",
        "print(f\"Berhasil mengekstrak {len(questions)} pasang data tanya-jawab.\")\n",
        "print(\"\\nContoh Pertanyaan:\", questions[59])\n",
        "print(\"Contoh Jawaban:\", answers[59])"
      ],
      "metadata": {
        "colab": {
          "base_uri": "https://localhost:8080/",
          "height": 0
        },
        "id": "EaLnYaIBmgVO",
        "outputId": "d07a15e2-ed1d-4c65-971e-76183d704bad"
      },
      "execution_count": 3,
      "outputs": [
        {
          "output_type": "stream",
          "name": "stdout",
          "text": [
            "Berhasil mengekstrak 76444 pasang data tanya-jawab.\n",
            "\n",
            "Contoh Pertanyaan: Di kota mana sekolah dasar Beyoncé berada?\n",
            "Contoh Jawaban: Fredericksburg\n"
          ]
        }
      ]
    },
    {
      "cell_type": "markdown",
      "source": [
        "## **Preprocessing Data**"
      ],
      "metadata": {
        "id": "bu_owa1I6mVo"
      }
    },
    {
      "cell_type": "code",
      "source": [
        "# --- Fungsi untuk membersihkan teks ---\n",
        "def clean_text(text):\n",
        "    text = text.lower()  # Mengubah ke huruf kecil\n",
        "    text = re.sub(r\"[-()\\\"#/@;:<>{}`+=~|.!?,]\", \"\", text) # Menghapus karakter khusus\n",
        "    return text\n",
        "\n",
        "# Membersihkan setiap pertanyaan dan jawaban\n",
        "cleaned_questions = [clean_text(q) for q in questions]\n",
        "cleaned_answers = [clean_text(a) for a in answers]\n",
        "\n",
        "# Kita perlu menambahkan token <start> dan <end> pada jawaban\n",
        "# agar model tahu kapan harus memulai dan mengakhiri sebuah kalimat.\n",
        "cleaned_answers_input = ['<start> ' + text for text in cleaned_answers]\n",
        "cleaned_answers_output = [text + ' <end>' for text in cleaned_answers]\n",
        "\n",
        "print(\"\\nContoh Pertanyaan (setelah dibersihkan):\", cleaned_questions[59])\n",
        "print(\"Contoh Jawaban (setelah dibersihkan):\", cleaned_answers_input[59])"
      ],
      "metadata": {
        "colab": {
          "base_uri": "https://localhost:8080/",
          "height": 0
        },
        "id": "YLFCDG14qESI",
        "outputId": "796395b9-3b55-43ac-9c67-6c382f9e2270"
      },
      "execution_count": 4,
      "outputs": [
        {
          "output_type": "stream",
          "name": "stdout",
          "text": [
            "\n",
            "Contoh Pertanyaan (setelah dibersihkan): di kota mana sekolah dasar beyoncé berada\n",
            "Contoh Jawaban (setelah dibersihkan): <start> fredericksburg\n"
          ]
        }
      ]
    },
    {
      "cell_type": "code",
      "source": [
        "# --- Tokenisasi ---\n",
        "# Gabungkan semua teks untuk membuat satu vocabulary\n",
        "all_texts = cleaned_questions + cleaned_answers_input + cleaned_answers_output\n",
        "tokenizer = Tokenizer(filters='', oov_token='<unk>')\n",
        "tokenizer.fit_on_texts(all_texts)\n",
        "\n",
        "vocab_size = len(tokenizer.word_index) + 1\n",
        "\n",
        "# Mengubah teks menjadi urutan angka (sequences)\n",
        "question_sequences = tokenizer.texts_to_sequences(cleaned_questions)\n",
        "answer_sequences_input = tokenizer.texts_to_sequences(cleaned_answers_input)\n",
        "\n",
        "# Menentukan panjang maksimum untuk padding\n",
        "max_len_question = max(len(seq) for seq in question_sequences)\n",
        "max_len_answer = max(len(seq) for seq in answer_sequences_input)\n",
        "max_len = max(max_len_question, max_len_answer)\n",
        "\n",
        "# --- Padding ---\n",
        "# Membuat semua sequence memiliki panjang yang sama\n",
        "X = pad_sequences(question_sequences, maxlen=max_len, padding='post')\n",
        "y = pad_sequences(answer_sequences_input, maxlen=max_len, padding='post')\n",
        "\n",
        "print(\"\\nUkuran Vocabulary:\", vocab_size)\n",
        "print(\"Panjang Sequence Maksimal:\", max_len)\n",
        "print(\"\\nContoh Question Sequence (setelah padding):\\n\", X[59])"
      ],
      "metadata": {
        "colab": {
          "base_uri": "https://localhost:8080/",
          "height": 0
        },
        "id": "cfK3Obt2qJrw",
        "outputId": "38eead89-a61c-428d-dbf6-6568bb92428b"
      },
      "execution_count": 5,
      "outputs": [
        {
          "output_type": "stream",
          "name": "stdout",
          "text": [
            "\n",
            "Ukuran Vocabulary: 47469\n",
            "Panjang Sequence Maksimal: 36\n",
            "\n",
            "Contoh Question Sequence (setelah padding):\n",
            " [  6  33  16  86 348 776 146   0   0   0   0   0   0   0   0   0   0   0\n",
            "   0   0   0   0   0   0   0   0   0   0   0   0   0   0   0   0   0   0]\n"
          ]
        }
      ]
    },
    {
      "cell_type": "markdown",
      "source": [
        "## **Modelling**"
      ],
      "metadata": {
        "id": "c4ykCv146sVR"
      }
    },
    {
      "cell_type": "code",
      "source": [
        "# --- Membangun Model ---\n",
        "embedding_dim = 128\n",
        "lstm_units = 256\n",
        "\n",
        "model = Sequential([\n",
        "    Embedding(input_dim=vocab_size, output_dim=embedding_dim),\n",
        "    LSTM(units=lstm_units, return_sequences=True),\n",
        "    Dense(units=vocab_size, activation='softmax')\n",
        "])\n",
        "\n",
        "model.compile(optimizer='adam', loss='sparse_categorical_crossentropy', metrics=['accuracy'])"
      ],
      "metadata": {
        "id": "ClW3Bor7qPXI"
      },
      "execution_count": 6,
      "outputs": []
    },
    {
      "cell_type": "code",
      "source": [
        "# --- Melatih Model ---\n",
        "# Catatan: Jumlah epochs yang ideal bisa lebih dari 50,\n",
        "# namun untuk percobaan awal, 10-20 sudah cukup untuk melihat hasilnya.\n",
        "epochs = 30\n",
        "batch_size = 64\n",
        "\n",
        "history = model.fit(X, y, epochs=epochs, batch_size=batch_size, validation_split=0.2)"
      ],
      "metadata": {
        "colab": {
          "base_uri": "https://localhost:8080/",
          "height": 0
        },
        "id": "spB43Rj_qUjP",
        "outputId": "ada81edd-d6c8-46a8-b286-7ffe0c35b036"
      },
      "execution_count": 8,
      "outputs": [
        {
          "output_type": "stream",
          "name": "stdout",
          "text": [
            "Epoch 1/30\n",
            "\u001b[1m956/956\u001b[0m \u001b[32m━━━━━━━━━━━━━━━━━━━━\u001b[0m\u001b[37m\u001b[0m \u001b[1m274s\u001b[0m 286ms/step - accuracy: 0.9204 - loss: 0.7765 - val_accuracy: 0.9177 - val_loss: 0.8419\n",
            "Epoch 2/30\n",
            "\u001b[1m956/956\u001b[0m \u001b[32m━━━━━━━━━━━━━━━━━━━━\u001b[0m\u001b[37m\u001b[0m \u001b[1m273s\u001b[0m 285ms/step - accuracy: 0.9203 - loss: 0.7386 - val_accuracy: 0.9181 - val_loss: 0.8387\n",
            "Epoch 3/30\n",
            "\u001b[1m956/956\u001b[0m \u001b[32m━━━━━━━━━━━━━━━━━━━━\u001b[0m\u001b[37m\u001b[0m \u001b[1m273s\u001b[0m 285ms/step - accuracy: 0.9209 - loss: 0.7049 - val_accuracy: 0.9181 - val_loss: 0.8454\n",
            "Epoch 4/30\n",
            "\u001b[1m956/956\u001b[0m \u001b[32m━━━━━━━━━━━━━━━━━━━━\u001b[0m\u001b[37m\u001b[0m \u001b[1m321s\u001b[0m 284ms/step - accuracy: 0.9203 - loss: 0.6828 - val_accuracy: 0.9180 - val_loss: 0.8553\n",
            "Epoch 5/30\n",
            "\u001b[1m956/956\u001b[0m \u001b[32m━━━━━━━━━━━━━━━━━━━━\u001b[0m\u001b[37m\u001b[0m \u001b[1m322s\u001b[0m 284ms/step - accuracy: 0.9205 - loss: 0.6564 - val_accuracy: 0.9182 - val_loss: 0.8686\n",
            "Epoch 6/30\n",
            "\u001b[1m956/956\u001b[0m \u001b[32m━━━━━━━━━━━━━━━━━━━━\u001b[0m\u001b[37m\u001b[0m \u001b[1m273s\u001b[0m 286ms/step - accuracy: 0.9214 - loss: 0.6245 - val_accuracy: 0.9180 - val_loss: 0.8863\n",
            "Epoch 7/30\n",
            "\u001b[1m956/956\u001b[0m \u001b[32m━━━━━━━━━━━━━━━━━━━━\u001b[0m\u001b[37m\u001b[0m \u001b[1m273s\u001b[0m 285ms/step - accuracy: 0.9210 - loss: 0.6016 - val_accuracy: 0.9176 - val_loss: 0.8940\n",
            "Epoch 8/30\n",
            "\u001b[1m956/956\u001b[0m \u001b[32m━━━━━━━━━━━━━━━━━━━━\u001b[0m\u001b[37m\u001b[0m \u001b[1m273s\u001b[0m 286ms/step - accuracy: 0.9217 - loss: 0.5728 - val_accuracy: 0.9174 - val_loss: 0.9078\n",
            "Epoch 9/30\n",
            "\u001b[1m956/956\u001b[0m \u001b[32m━━━━━━━━━━━━━━━━━━━━\u001b[0m\u001b[37m\u001b[0m \u001b[1m273s\u001b[0m 285ms/step - accuracy: 0.9218 - loss: 0.5483 - val_accuracy: 0.9170 - val_loss: 0.9225\n",
            "Epoch 10/30\n",
            "\u001b[1m956/956\u001b[0m \u001b[32m━━━━━━━━━━━━━━━━━━━━\u001b[0m\u001b[37m\u001b[0m \u001b[1m273s\u001b[0m 286ms/step - accuracy: 0.9236 - loss: 0.5168 - val_accuracy: 0.9162 - val_loss: 0.9379\n",
            "Epoch 11/30\n",
            "\u001b[1m956/956\u001b[0m \u001b[32m━━━━━━━━━━━━━━━━━━━━\u001b[0m\u001b[37m\u001b[0m \u001b[1m273s\u001b[0m 286ms/step - accuracy: 0.9249 - loss: 0.4919 - val_accuracy: 0.9154 - val_loss: 0.9524\n",
            "Epoch 12/30\n",
            "\u001b[1m956/956\u001b[0m \u001b[32m━━━━━━━━━━━━━━━━━━━━\u001b[0m\u001b[37m\u001b[0m \u001b[1m273s\u001b[0m 285ms/step - accuracy: 0.9265 - loss: 0.4667 - val_accuracy: 0.9150 - val_loss: 0.9729\n",
            "Epoch 13/30\n",
            "\u001b[1m956/956\u001b[0m \u001b[32m━━━━━━━━━━━━━━━━━━━━\u001b[0m\u001b[37m\u001b[0m \u001b[1m273s\u001b[0m 285ms/step - accuracy: 0.9276 - loss: 0.4487 - val_accuracy: 0.9151 - val_loss: 0.9925\n",
            "Epoch 14/30\n",
            "\u001b[1m956/956\u001b[0m \u001b[32m━━━━━━━━━━━━━━━━━━━━\u001b[0m\u001b[37m\u001b[0m \u001b[1m273s\u001b[0m 286ms/step - accuracy: 0.9296 - loss: 0.4272 - val_accuracy: 0.9142 - val_loss: 1.0062\n",
            "Epoch 15/30\n",
            "\u001b[1m956/956\u001b[0m \u001b[32m━━━━━━━━━━━━━━━━━━━━\u001b[0m\u001b[37m\u001b[0m \u001b[1m274s\u001b[0m 286ms/step - accuracy: 0.9318 - loss: 0.4065 - val_accuracy: 0.9130 - val_loss: 1.0216\n",
            "Epoch 16/30\n",
            "\u001b[1m956/956\u001b[0m \u001b[32m━━━━━━━━━━━━━━━━━━━━\u001b[0m\u001b[37m\u001b[0m \u001b[1m274s\u001b[0m 287ms/step - accuracy: 0.9327 - loss: 0.3951 - val_accuracy: 0.9126 - val_loss: 1.0404\n",
            "Epoch 17/30\n",
            "\u001b[1m956/956\u001b[0m \u001b[32m━━━━━━━━━━━━━━━━━━━━\u001b[0m\u001b[37m\u001b[0m \u001b[1m274s\u001b[0m 287ms/step - accuracy: 0.9340 - loss: 0.3799 - val_accuracy: 0.9118 - val_loss: 1.0551\n",
            "Epoch 18/30\n",
            "\u001b[1m956/956\u001b[0m \u001b[32m━━━━━━━━━━━━━━━━━━━━\u001b[0m\u001b[37m\u001b[0m \u001b[1m321s\u001b[0m 286ms/step - accuracy: 0.9359 - loss: 0.3645 - val_accuracy: 0.9107 - val_loss: 1.0703\n",
            "Epoch 19/30\n",
            "\u001b[1m956/956\u001b[0m \u001b[32m━━━━━━━━━━━━━━━━━━━━\u001b[0m\u001b[37m\u001b[0m \u001b[1m274s\u001b[0m 287ms/step - accuracy: 0.9372 - loss: 0.3530 - val_accuracy: 0.9100 - val_loss: 1.0846\n",
            "Epoch 20/30\n",
            "\u001b[1m956/956\u001b[0m \u001b[32m━━━━━━━━━━━━━━━━━━━━\u001b[0m\u001b[37m\u001b[0m \u001b[1m274s\u001b[0m 286ms/step - accuracy: 0.9390 - loss: 0.3389 - val_accuracy: 0.9102 - val_loss: 1.1046\n",
            "Epoch 21/30\n",
            "\u001b[1m956/956\u001b[0m \u001b[32m━━━━━━━━━━━━━━━━━━━━\u001b[0m\u001b[37m\u001b[0m \u001b[1m321s\u001b[0m 286ms/step - accuracy: 0.9400 - loss: 0.3297 - val_accuracy: 0.9098 - val_loss: 1.1168\n",
            "Epoch 22/30\n",
            "\u001b[1m956/956\u001b[0m \u001b[32m━━━━━━━━━━━━━━━━━━━━\u001b[0m\u001b[37m\u001b[0m \u001b[1m274s\u001b[0m 287ms/step - accuracy: 0.9416 - loss: 0.3168 - val_accuracy: 0.9092 - val_loss: 1.1323\n",
            "Epoch 23/30\n",
            "\u001b[1m956/956\u001b[0m \u001b[32m━━━━━━━━━━━━━━━━━━━━\u001b[0m\u001b[37m\u001b[0m \u001b[1m274s\u001b[0m 286ms/step - accuracy: 0.9427 - loss: 0.3085 - val_accuracy: 0.9089 - val_loss: 1.1459\n",
            "Epoch 24/30\n",
            "\u001b[1m956/956\u001b[0m \u001b[32m━━━━━━━━━━━━━━━━━━━━\u001b[0m\u001b[37m\u001b[0m \u001b[1m275s\u001b[0m 288ms/step - accuracy: 0.9437 - loss: 0.3014 - val_accuracy: 0.9078 - val_loss: 1.1612\n",
            "Epoch 25/30\n",
            "\u001b[1m956/956\u001b[0m \u001b[32m━━━━━━━━━━━━━━━━━━━━\u001b[0m\u001b[37m\u001b[0m \u001b[1m274s\u001b[0m 287ms/step - accuracy: 0.9449 - loss: 0.2916 - val_accuracy: 0.9076 - val_loss: 1.1742\n",
            "Epoch 26/30\n",
            "\u001b[1m956/956\u001b[0m \u001b[32m━━━━━━━━━━━━━━━━━━━━\u001b[0m\u001b[37m\u001b[0m \u001b[1m274s\u001b[0m 286ms/step - accuracy: 0.9462 - loss: 0.2829 - val_accuracy: 0.9066 - val_loss: 1.1855\n",
            "Epoch 27/30\n",
            "\u001b[1m956/956\u001b[0m \u001b[32m━━━━━━━━━━━━━━━━━━━━\u001b[0m\u001b[37m\u001b[0m \u001b[1m273s\u001b[0m 286ms/step - accuracy: 0.9473 - loss: 0.2756 - val_accuracy: 0.9077 - val_loss: 1.2034\n",
            "Epoch 28/30\n",
            "\u001b[1m956/956\u001b[0m \u001b[32m━━━━━━━━━━━━━━━━━━━━\u001b[0m\u001b[37m\u001b[0m \u001b[1m273s\u001b[0m 286ms/step - accuracy: 0.9485 - loss: 0.2676 - val_accuracy: 0.9076 - val_loss: 1.2153\n",
            "Epoch 29/30\n",
            "\u001b[1m956/956\u001b[0m \u001b[32m━━━━━━━━━━━━━━━━━━━━\u001b[0m\u001b[37m\u001b[0m \u001b[1m274s\u001b[0m 287ms/step - accuracy: 0.9489 - loss: 0.2637 - val_accuracy: 0.9063 - val_loss: 1.2275\n",
            "Epoch 30/30\n",
            "\u001b[1m956/956\u001b[0m \u001b[32m━━━━━━━━━━━━━━━━━━━━\u001b[0m\u001b[37m\u001b[0m \u001b[1m313s\u001b[0m 328ms/step - accuracy: 0.9504 - loss: 0.2546 - val_accuracy: 0.9055 - val_loss: 1.2412\n"
          ]
        }
      ]
    },
    {
      "cell_type": "markdown",
      "source": [
        "## **Evaluasi dan Tes Chatbot**"
      ],
      "metadata": {
        "id": "_pjslELo64CP"
      }
    },
    {
      "cell_type": "code",
      "source": [
        "# Membuat mapping dari index ke kata dan sebaliknya\n",
        "word_to_index = tokenizer.word_index\n",
        "index_to_word = {i: word for word, i in word_to_index.items()}\n",
        "\n",
        "def chatbot_response(user_input):\n",
        "    # 1. Bersihkan dan proses input pengguna\n",
        "    cleaned_input = clean_text(user_input)\n",
        "    input_seq = tokenizer.texts_to_sequences([cleaned_input])\n",
        "    padded_input = pad_sequences(input_seq, maxlen=max_len, padding='post')\n",
        "\n",
        "    # 2. Lakukan prediksi dengan model\n",
        "    prediction = model.predict(padded_input)\n",
        "\n",
        "    # 3. Ambil kata dengan probabilitas tertinggi untuk setiap posisi\n",
        "    predicted_indices = np.argmax(prediction, axis=-1)[0]\n",
        "\n",
        "    # 4. Ubah kembali dari index ke kata\n",
        "    response_text = ''\n",
        "    for index in predicted_indices:\n",
        "        if index > 0: # Abaikan padding (index 0)\n",
        "            word = index_to_word.get(index, '<unk>')\n",
        "            if word == '<end>':\n",
        "                break\n",
        "            response_text += ' ' + word\n",
        "\n",
        "    return response_text.strip()\n",
        "\n",
        "# --- Mari Coba Chatbot! ---\n",
        "print(\"\\n--- Chatbot Siap! ---\")\n",
        "print(\"Ketik 'exit' untuk keluar.\")\n",
        "\n",
        "while True:\n",
        "    user_query = input(\"Anda: \")\n",
        "    if user_query.lower() == 'exit':\n",
        "        break\n",
        "\n",
        "    response = chatbot_response(user_query)\n",
        "    print(\"Bot:\", response)"
      ],
      "metadata": {
        "colab": {
          "base_uri": "https://localhost:8080/",
          "height": 0
        },
        "id": "JeMekA6QqWpv",
        "outputId": "d9c2f384-6a70-4aa0-e10f-82ac66c836dc"
      },
      "execution_count": 11,
      "outputs": [
        {
          "name": "stdout",
          "output_type": "stream",
          "text": [
            "\n",
            "--- Chatbot Siap! ---\n",
            "Ketik 'exit' untuk keluar.\n",
            "Anda: exit\n"
          ]
        }
      ]
    },
    {
      "cell_type": "code",
      "source": [
        "import matplotlib.pyplot as plt\n",
        "\n",
        "# Mengekstrak data dari objek history\n",
        "history_dict = history.history\n",
        "loss_values = history_dict['loss']\n",
        "val_loss_values = history_dict['val_loss']\n",
        "accuracy = history_dict['accuracy']\n",
        "val_accuracy = history_dict['val_accuracy']\n",
        "\n",
        "epochs_range = range(1, len(accuracy) + 1)\n",
        "\n",
        "# Membuat plot untuk Loss\n",
        "plt.figure(figsize=(12, 5))\n",
        "plt.subplot(1, 2, 1)\n",
        "plt.plot(epochs_range, loss_values, 'bo', label='Training Loss')\n",
        "plt.plot(epochs_range, val_loss_values, 'b', label='Validation Loss')\n",
        "plt.title('Training and Validation Loss')\n",
        "plt.xlabel('Epochs')\n",
        "plt.ylabel('Loss')\n",
        "plt.legend()\n",
        "\n",
        "# Membuat plot untuk Accuracy\n",
        "plt.subplot(1, 2, 2)\n",
        "plt.plot(epochs_range, accuracy, 'ro', label='Training Accuracy')\n",
        "plt.plot(epochs_range, val_accuracy, 'r', label='Validation Accuracy')\n",
        "plt.title('Training and Validation Accuracy')\n",
        "plt.xlabel('Epochs')\n",
        "plt.ylabel('Accuracy')\n",
        "plt.legend()\n",
        "\n",
        "plt.show()"
      ],
      "metadata": {
        "colab": {
          "base_uri": "https://localhost:8080/",
          "height": 487
        },
        "id": "8ErLjMCXgKSN",
        "outputId": "60928078-6128-4a2b-bf34-db705594bf84"
      },
      "execution_count": 12,
      "outputs": [
        {
          "output_type": "display_data",
          "data": {
            "text/plain": [
              "<Figure size 1200x500 with 2 Axes>"
            ],
            "image/png": "[encoded data removed]"
          },
          "metadata": {}
        }
      ]
    }
  ],
  "metadata": {
    "colab": {
      "provenance": []
    },
    "kernelspec": {
      "display_name": "Python 3",
      "name": "python3"
    },
    "language_info": {
      "name": "python"
    }
  },
  "nbformat": 4,
  "nbformat_minor": 0
}